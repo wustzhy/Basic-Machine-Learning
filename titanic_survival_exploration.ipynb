{
 "cells": [
  {
   "cell_type": "markdown",
   "metadata": {},
   "source": [
    "# 机器学习（入门）探索数据集"
   ]
  },
  {
   "cell_type": "markdown",
   "metadata": {},
   "source": [
    "## 研究项目：《泰坦尼克号》生还探索"
   ]
  },
  {
   "cell_type": "markdown",
   "metadata": {},
   "source": [
    "### 1、序\n",
    "       1912年的一天，当时世界上体积最庞大、内部设施最豪华的客运轮船，有“永不沉没”美誉的泰坦尼克号，在她的处女航中撞冰山沉入大西洋底3700米处，船上1500多人丧生。一百多年后，人们对这一场旷世海难依然充满好奇，从电影作品到考古探索，越来越多的故事与猜想。那么，这艘在上世纪初无与伦比的豪华巨轮，怎么说翻就翻了？在翻船前，除了杰克与露丝的爱情，泰坦尼克号还经历了什么？\n",
    "       那么到底是什么影响了乘客的生还，透过生还数据，我们能得到什么样的结果？接下来，我会通过数据分析告诉你哪些特征会影响生存率。\n",
    "### 2、数据集来源\n",
    "       著名的数据分析竞赛网站Kaggle上，举行了很多数据分析比赛，其中比较著名的就有 泰坦尼克号乘客生还预测 。\n",
    "       Kaggle提供的数据集中，包括泰坦尼克号上 2224 名乘客和船员中 891 名的人口学数据和乘客基本信息。\n",
    "### 3、数据字典解释\n",
    "|属性\t       |定义\t             |值说明|\n",
    "|:-|:---|:---|\n",
    "|**PassengerId**|乘客编号            |\n",
    "|**Survived**\t|存活情况            |1-存活，0-死亡|\n",
    "|**Pclass**\t    |舱位等级\t     |1-上层，2-中间层，3-底层|\n",
    "|**Name**\t    |乘客姓名\t|\n",
    "|**Sex**\t    |性别\t|\n",
    "|**Age**\t    |年龄\t|\n",
    "|**SibSp**\t    |同乘的兄弟姐妹/配偶数 |\n",
    "|**Parch**\t    |同乘的父母/小孩数 |\n",
    "|**Ticket**\t    |船票编号\t|\n",
    "|**Fare**\t    |船票价格\t|\n",
    "|**Cabin**\t    |客舱号\t|\n",
    "|**Embarked**\t|登船港口 |C：Cherbourg（瑟堡），Q：Queenstown（皇后镇），S：Southampton（南安普顿）|"
   ]
  },
  {
   "cell_type": "markdown",
   "metadata": {},
   "source": [
    "## Question Phase 提出问题"
   ]
  },
  {
   "cell_type": "markdown",
   "metadata": {
    "collapsed": true
   },
   "source": [
    "- 探索舱室等级对存活率的影响\n",
    "- 探索性别对存活率的影响\n",
    "- 探索年龄对存活率的影响\n",
    "- 探索乘客间是兄弟姐妹/配偶关系的对存活率的影响\n",
    "- 探索乘客间是父母/小孩关系的对存活率的影响\n",
    "- 探索票价对存活率的影响\n",
    "- 探索舱室等级与性别的综合因素对存活率的影响"
   ]
  },
  {
   "cell_type": "markdown",
   "metadata": {},
   "source": [
    "## Wrangling Phase 数据采集与数据清理"
   ]
  },
  {
   "cell_type": "markdown",
   "metadata": {},
   "source": [
    "- 导入需要的资源库"
   ]
  },
  {
   "cell_type": "code",
   "execution_count": 2,
   "metadata": {},
   "outputs": [],
   "source": [
    "import numpy as np\n",
    "import pandas as pd\n",
    "import matplotlib.pyplot as plt"
   ]
  },
  {
   "cell_type": "markdown",
   "metadata": {},
   "source": [
    "- 提供漂亮的可视化工具"
   ]
  },
  {
   "cell_type": "code",
   "execution_count": 3,
   "metadata": {},
   "outputs": [],
   "source": [
    "%matplotlib inline"
   ]
  },
  {
   "cell_type": "markdown",
   "metadata": {},
   "source": [
    "- 采集数据"
   ]
  },
  {
   "cell_type": "code",
   "execution_count": 4,
   "metadata": {
    "scrolled": true
   },
   "outputs": [
    {
     "data": {
      "text/html": [
       "<div>\n",
       "<style scoped>\n",
       "    .dataframe tbody tr th:only-of-type {\n",
       "        vertical-align: middle;\n",
       "    }\n",
       "\n",
       "    .dataframe tbody tr th {\n",
       "        vertical-align: top;\n",
       "    }\n",
       "\n",
       "    .dataframe thead th {\n",
       "        text-align: right;\n",
       "    }\n",
       "</style>\n",
       "<table border=\"1\" class=\"dataframe\">\n",
       "  <thead>\n",
       "    <tr style=\"text-align: right;\">\n",
       "      <th></th>\n",
       "      <th>PassengerId</th>\n",
       "      <th>Survived</th>\n",
       "      <th>Pclass</th>\n",
       "      <th>Name</th>\n",
       "      <th>Sex</th>\n",
       "      <th>Age</th>\n",
       "      <th>SibSp</th>\n",
       "      <th>Parch</th>\n",
       "      <th>Ticket</th>\n",
       "      <th>Fare</th>\n",
       "      <th>Cabin</th>\n",
       "      <th>Embarked</th>\n",
       "    </tr>\n",
       "  </thead>\n",
       "  <tbody>\n",
       "    <tr>\n",
       "      <th>0</th>\n",
       "      <td>1</td>\n",
       "      <td>0</td>\n",
       "      <td>3</td>\n",
       "      <td>Braund, Mr. Owen Harris</td>\n",
       "      <td>male</td>\n",
       "      <td>22.0</td>\n",
       "      <td>1</td>\n",
       "      <td>0</td>\n",
       "      <td>A/5 21171</td>\n",
       "      <td>7.2500</td>\n",
       "      <td>NaN</td>\n",
       "      <td>S</td>\n",
       "    </tr>\n",
       "    <tr>\n",
       "      <th>1</th>\n",
       "      <td>2</td>\n",
       "      <td>1</td>\n",
       "      <td>1</td>\n",
       "      <td>Cumings, Mrs. John Bradley (Florence Briggs Th...</td>\n",
       "      <td>female</td>\n",
       "      <td>38.0</td>\n",
       "      <td>1</td>\n",
       "      <td>0</td>\n",
       "      <td>PC 17599</td>\n",
       "      <td>71.2833</td>\n",
       "      <td>C85</td>\n",
       "      <td>C</td>\n",
       "    </tr>\n",
       "    <tr>\n",
       "      <th>2</th>\n",
       "      <td>3</td>\n",
       "      <td>1</td>\n",
       "      <td>3</td>\n",
       "      <td>Heikkinen, Miss. Laina</td>\n",
       "      <td>female</td>\n",
       "      <td>26.0</td>\n",
       "      <td>0</td>\n",
       "      <td>0</td>\n",
       "      <td>STON/O2. 3101282</td>\n",
       "      <td>7.9250</td>\n",
       "      <td>NaN</td>\n",
       "      <td>S</td>\n",
       "    </tr>\n",
       "    <tr>\n",
       "      <th>3</th>\n",
       "      <td>4</td>\n",
       "      <td>1</td>\n",
       "      <td>1</td>\n",
       "      <td>Futrelle, Mrs. Jacques Heath (Lily May Peel)</td>\n",
       "      <td>female</td>\n",
       "      <td>35.0</td>\n",
       "      <td>1</td>\n",
       "      <td>0</td>\n",
       "      <td>113803</td>\n",
       "      <td>53.1000</td>\n",
       "      <td>C123</td>\n",
       "      <td>S</td>\n",
       "    </tr>\n",
       "    <tr>\n",
       "      <th>4</th>\n",
       "      <td>5</td>\n",
       "      <td>0</td>\n",
       "      <td>3</td>\n",
       "      <td>Allen, Mr. William Henry</td>\n",
       "      <td>male</td>\n",
       "      <td>35.0</td>\n",
       "      <td>0</td>\n",
       "      <td>0</td>\n",
       "      <td>373450</td>\n",
       "      <td>8.0500</td>\n",
       "      <td>NaN</td>\n",
       "      <td>S</td>\n",
       "    </tr>\n",
       "  </tbody>\n",
       "</table>\n",
       "</div>"
      ],
      "text/plain": [
       "   PassengerId  Survived  Pclass  \\\n",
       "0            1         0       3   \n",
       "1            2         1       1   \n",
       "2            3         1       3   \n",
       "3            4         1       1   \n",
       "4            5         0       3   \n",
       "\n",
       "                                                Name     Sex   Age  SibSp  \\\n",
       "0                            Braund, Mr. Owen Harris    male  22.0      1   \n",
       "1  Cumings, Mrs. John Bradley (Florence Briggs Th...  female  38.0      1   \n",
       "2                             Heikkinen, Miss. Laina  female  26.0      0   \n",
       "3       Futrelle, Mrs. Jacques Heath (Lily May Peel)  female  35.0      1   \n",
       "4                           Allen, Mr. William Henry    male  35.0      0   \n",
       "\n",
       "   Parch            Ticket     Fare Cabin Embarked  \n",
       "0      0         A/5 21171   7.2500   NaN        S  \n",
       "1      0          PC 17599  71.2833   C85        C  \n",
       "2      0  STON/O2. 3101282   7.9250   NaN        S  \n",
       "3      0            113803  53.1000  C123        S  \n",
       "4      0            373450   8.0500   NaN        S  "
      ]
     },
     "execution_count": 4,
     "metadata": {},
     "output_type": "execute_result"
    }
   ],
   "source": [
    "# 导入'titanic-data.csv'数据\n",
    "titanic_df = pd.read_csv(\"./titanic-data.csv\")\n",
    "# 显示样本数据的前五条信息\n",
    "titanic_df.head()"
   ]
  },
  {
   "cell_type": "markdown",
   "metadata": {},
   "source": [
    "从泰坦尼克号的数据样本中，我们可以看到存在<font color=#DC143C>NAN</font>的数据（Age、Cabin、Embarked），因此为了使将要分析的变量保持一致的数据量，我们需要进行数据清洗，生成一个新的数据集，再对新的数据集进行分析探索。"
   ]
  },
  {
   "cell_type": "markdown",
   "metadata": {},
   "source": [
    "- 清理数据"
   ]
  },
  {
   "cell_type": "code",
   "execution_count": 5,
   "metadata": {
    "scrolled": false
   },
   "outputs": [
    {
     "name": "stdout",
     "output_type": "stream",
     "text": [
      "<class 'pandas.core.frame.DataFrame'>\n",
      "Int64Index: 714 entries, 0 to 890\n",
      "Data columns (total 12 columns):\n",
      "PassengerId    714 non-null int64\n",
      "Survived       714 non-null int64\n",
      "Pclass         714 non-null int64\n",
      "Name           714 non-null object\n",
      "Sex            714 non-null object\n",
      "Age            714 non-null float64\n",
      "SibSp          714 non-null int64\n",
      "Parch          714 non-null int64\n",
      "Ticket         714 non-null object\n",
      "Fare           714 non-null float64\n",
      "Cabin          185 non-null object\n",
      "Embarked       712 non-null object\n",
      "dtypes: float64(2), int64(5), object(5)\n",
      "memory usage: 72.5+ KB\n"
     ]
    }
   ],
   "source": [
    "# 过滤分析过程中缺失的数据\n",
    "titanic_df.dropna(subset = ['Age'], inplace = True)\n",
    "titanic_df.info()"
   ]
  },
  {
   "cell_type": "markdown",
   "metadata": {
    "collapsed": true
   },
   "source": [
    "## Expore Phase 数据探索 提炼问题"
   ]
  },
  {
   "cell_type": "code",
   "execution_count": 6,
   "metadata": {},
   "outputs": [],
   "source": [
    "# 定义常量\n",
    "SURVIVED = 'Survived'\n",
    "DENSITY = 'Density'\n",
    "SHOW_KIND_BAR = 'bar'\n",
    "SHOW_KIND_PIE = 'pie'\n",
    "HEADER_SURVIVED = 'survived'\n",
    "HEADER_TOTAL = 'total'\n",
    "HEADER_RATE = 'rate'"
   ]
  },
  {
   "cell_type": "code",
   "execution_count": 8,
   "metadata": {},
   "outputs": [],
   "source": [
    "def print_result(title, grouped_survied_factors, grouped_each_factor_counts, survived_rate):\n",
    "    \"\"\"\n",
    "    数据集横向合并后输出\n",
    "    title：feature title\n",
    "    grouped_survied_factors：存活数\n",
    "    grouped_each_factor_counts：总数\n",
    "    survived_rate：成活率\n",
    "    \"\"\"\n",
    "    print('Profile feature \\\"'+ title + '\\\" survival rate')\n",
    "    print('-------------------------------------------')\n",
    "    # 横向拼接并输\n",
    "    result = pd.concat([grouped_survied_factors, grouped_each_factor_counts, survived_rate], axis = 1)\n",
    "    result.columns = [HEADER_SURVIVED, HEADER_TOTAL, HEADER_RATE]\n",
    "    print(result)"
   ]
  },
  {
   "cell_type": "code",
   "execution_count": 9,
   "metadata": {},
   "outputs": [],
   "source": [
    "def prediction_with_one_factor(survived, factor, title, xlabel, ylabel):\n",
    "    \"\"\"\n",
    "    基于单个特征因素的预测\n",
    "    survived：存活\n",
    "    factor：特征\n",
    "    title：图形标题\n",
    "    xlabel：x轴标签\n",
    "    ylabel：y轴标签\n",
    "    \"\"\"\n",
    "    df_grouped = titanic_df[[survived, factor]].groupby(factor)\n",
    "    # 统计每组生存者的总数\n",
    "    grouped_survied_factors = df_grouped.sum()\n",
    "    # 统计分组总有人数\n",
    "    grouped_each_factor_counts = df_grouped.count()\n",
    "    # 计算存活率\n",
    "    survived_rate = grouped_survied_factors / grouped_each_factor_counts\n",
    "    \n",
    "    # 横向拼接并输出\n",
    "    print_result(factor, grouped_survied_factors, grouped_each_factor_counts, survived_rate)\n",
    "    \n",
    "    # 绘制直方图\n",
    "    survived_rate.plot(kind = SHOW_KIND_BAR)\n",
    "    \n",
    "    plt.title(title)\n",
    "    plt.xlabel(xlabel)\n",
    "    plt.ylabel(ylabel)\n",
    "    \n",
    "    plt.show()"
   ]
  },
  {
   "cell_type": "code",
   "execution_count": 10,
   "metadata": {},
   "outputs": [],
   "source": [
    "def prediction_with_interval_factor(survived, factor, factor_group, bins, blabels, title, xlabel, ylabel):\n",
    "    \"\"\"\n",
    "    基于区间因素的预测\n",
    "    survived：存活\n",
    "    factor：特征\n",
    "    factor_group：特征分组的组名\n",
    "    bins：分组区间\n",
    "    blabels：分组区间标签\n",
    "    title：图形标题\n",
    "    xlabel：x轴标签\n",
    "    ylabel：y轴标签\n",
    "    \"\"\"\n",
    "    # 根据给定的区间进行分组\n",
    "    titanic_df[factor_group] = pd.cut(titanic_df[factor], bins, labels = blabels)\n",
    "\n",
    "    factor_df = pd.concat([titanic_df[survived], titanic_df[factor_group]], axis = 1)\n",
    "\n",
    "    df_grouped = factor_df.groupby(factor_group)\n",
    "    # 统计每组生存者的总数\n",
    "    grouped_survied_factors = df_grouped.sum()\n",
    "    # 统计分组总有人数\n",
    "    grouped_each_factor_counts = df_grouped.count()\n",
    "\n",
    "    # 计算存活率\n",
    "    survived_rate = grouped_survied_factors / grouped_each_factor_counts\n",
    "\n",
    "    # 横向拼接并输出\n",
    "    print_result(factor, grouped_survied_factors, grouped_each_factor_counts, survived_rate)\n",
    "    \n",
    "    # 绘制直方图与饼图\n",
    "    survived_rate.plot(kind = SHOW_KIND_BAR)\n",
    "    \n",
    "    plt.title(title)\n",
    "    plt.xlabel(xlabel)\n",
    "    plt.ylabel(ylabel)\n",
    "    \n",
    "    survived_rate.plot(kind = SHOW_KIND_PIE, subplots = True)\n",
    "    plt.ylabel('')\n",
    "    \n",
    "    plt.show()"
   ]
  },
  {
   "cell_type": "code",
   "execution_count": 11,
   "metadata": {},
   "outputs": [],
   "source": [
    "def prediction_with_double_factor(survived, factor1, factor2, title, xlabel, ylabel):\n",
    "    \"\"\"\n",
    "    基于双重因素的预测\n",
    "    survived：存活\n",
    "    factor1：特征1\n",
    "    factor2：特征2\n",
    "    title：图形标题\n",
    "    xlabel：x轴标签\n",
    "    ylabel：y轴标签\n",
    "    \"\"\"\n",
    "    series_grouped_factor = titanic_df.groupby([factor1, factor2])[survived]\n",
    "    \n",
    "    grouped_survied_factors = series_grouped_factor.sum()\n",
    "    grouped_each_factor_counts = series_grouped_factor.count()\n",
    "\n",
    "    survived_rate = grouped_survied_factors / grouped_each_factor_counts\n",
    "\n",
    "    # 横向拼接并输出\n",
    "    print_result(factor1 + ' + ' + factor2, grouped_survied_factors, grouped_each_factor_counts, survived_rate)\n",
    "    \n",
    "    # 绘制直方图\n",
    "    survived_rate.unstack().plot(kind = SHOW_KIND_BAR)\n",
    "    \n",
    "    plt.title(title)\n",
    "    plt.xlabel(xlabel)\n",
    "    plt.ylabel(ylabel)\n",
    "    \n",
    "    plt.show()"
   ]
  },
  {
   "cell_type": "markdown",
   "metadata": {},
   "source": [
    "### 1、探索舱室等级对存活率的影响"
   ]
  },
  {
   "cell_type": "code",
   "execution_count": 12,
   "metadata": {
    "scrolled": false
   },
   "outputs": [
    {
     "name": "stdout",
     "output_type": "stream",
     "text": [
      "Profile feature \"Pclass\" survival rate\n",
      "-------------------------------------------\n",
      "        survived  total      rate\n",
      "Pclass                           \n",
      "1            122    186  0.655914\n",
      "2             83    173  0.479769\n",
      "3             85    355  0.239437\n"
     ]
    },
    {
     "data": {
      "image/png": "[encoded data removed]",
      "text/plain": [
       "<Figure size 432x288 with 1 Axes>"
      ]
     },
     "metadata": {},
     "output_type": "display_data"
    }
   ],
   "source": [
    "prediction_with_one_factor(SURVIVED, 'Pclass', 'Pclass Survival Rate', 'factor(Pclass)', DENSITY)"
   ]
  },
  {
   "cell_type": "markdown",
   "metadata": {},
   "source": [
    "- 图形解读：x轴代表舱位等级，y轴代表存活率系数\n",
    "- 数据解读：一级舱存活率：65.59%，二级舱存活率：47.97%，三级舱存活率：23.94%"
   ]
  },
  {
   "cell_type": "markdown",
   "metadata": {},
   "source": [
    "### 2、探索性别对存活率的影响"
   ]
  },
  {
   "cell_type": "code",
   "execution_count": 13,
   "metadata": {
    "scrolled": true
   },
   "outputs": [
    {
     "name": "stdout",
     "output_type": "stream",
     "text": [
      "Profile feature \"Sex\" survival rate\n",
      "-------------------------------------------\n",
      "        survived  total      rate\n",
      "Sex                              \n",
      "female       197    261  0.754789\n",
      "male          93    453  0.205298\n"
     ]
    },
    {
     "data": {
      "image/png": "[encoded data removed]",
      "text/plain": [
       "<Figure size 432x288 with 1 Axes>"
      ]
     },
     "metadata": {},
     "output_type": "display_data"
    }
   ],
   "source": [
    "prediction_with_one_factor(SURVIVED, 'Sex', 'Sex Survival Rate', 'Sex', DENSITY)"
   ]
  },
  {
   "cell_type": "markdown",
   "metadata": {},
   "source": [
    "- 图形解读：x轴代表性别 female（女士）、male（男士），y轴代表存活率系数\n",
    "- 数据解读：女士存活率：75.47%，男士存活率：20.52%"
   ]
  },
  {
   "cell_type": "markdown",
   "metadata": {},
   "source": [
    "### 3、探索年龄对存活率的影响"
   ]
  },
  {
   "cell_type": "code",
   "execution_count": 14,
   "metadata": {},
   "outputs": [
    {
     "name": "stdout",
     "output_type": "stream",
     "text": [
      "Profile feature \"Age\" survival rate\n",
      "-------------------------------------------\n",
      "          survived  total      rate\n",
      "AgeLevel                           \n",
      "child           45     77  0.584416\n",
      "young          162    420  0.385714\n",
      "midlife         78    195  0.400000\n",
      "aged             5     22  0.227273\n"
     ]
    },
    {
     "data": {
      "image/png": "[encoded data removed]",
      "text/plain": [
       "<Figure size 432x288 with 1 Axes>"
      ]
     },
     "metadata": {},
     "output_type": "display_data"
    },
    {
     "data": {
      "image/png": "[encoded data removed]",
      "text/plain": [
       "<Figure size 432x288 with 1 Axes>"
      ]
     },
     "metadata": {},
     "output_type": "display_data"
    }
   ],
   "source": [
    "\"\"\"\n",
    "child：少年（0-14）\n",
    "young：青年（15-35）\n",
    "midlife：中年（36-60）\n",
    "aged：老年（61-90）\n",
    "\"\"\"\n",
    "bins = [0, 14, 35, 60, 90]\n",
    "\n",
    "labels = ['child', 'young', 'midlife', 'aged']\n",
    "prediction_with_interval_factor(SURVIVED, 'Age', 'AgeLevel', bins, labels, 'Age Survival Rate', 'Age', DENSITY)"
   ]
  },
  {
   "cell_type": "markdown",
   "metadata": {},
   "source": [
    "- 图形解读：柱状图x轴代表各年龄段，child（少年）、young（青年）、midlife（中年）、aged（老年），y轴代表存活率系数\n",
    "- 数据解读：child存活率：58.44%，young存活率：38.57%，midlife存活率：40%，aged存活率：22.72%"
   ]
  },
  {
   "cell_type": "markdown",
   "metadata": {},
   "source": [
    "### 4、探索乘客间是兄弟姐妹/配偶关系的对存活率的影响"
   ]
  },
  {
   "cell_type": "code",
   "execution_count": 15,
   "metadata": {},
   "outputs": [
    {
     "name": "stdout",
     "output_type": "stream",
     "text": [
      "Profile feature \"SibSp\" survival rate\n",
      "-------------------------------------------\n",
      "       survived  total      rate\n",
      "SibSp                           \n",
      "0           175    471  0.371550\n",
      "1            97    183  0.530055\n",
      "2            11     25  0.440000\n",
      "3             4     12  0.333333\n",
      "4             3     18  0.166667\n",
      "5             0      5  0.000000\n"
     ]
    },
    {
     "data": {
      "image/png": "[encoded data removed]",
      "text/plain": [
       "<Figure size 432x288 with 1 Axes>"
      ]
     },
     "metadata": {},
     "output_type": "display_data"
    }
   ],
   "source": [
    "prediction_with_one_factor(SURVIVED, 'SibSp', 'SibSp Survival Rate', 'SibSp Count', DENSITY)"
   ]
  },
  {
   "cell_type": "markdown",
   "metadata": {},
   "source": [
    "- 图形解读：x轴代表乘客间有兄弟姐妹或配偶关系的数量，y轴代表存活率系数\n",
    "- 数据解读：关系数量0个的存活率：37.15%，1个的存活率：53%，2个的存活率：44%，3个的存活率：33.33%，4个存活率：16.66%，5个的存活率：0%"
   ]
  },
  {
   "cell_type": "markdown",
   "metadata": {},
   "source": [
    "### 5、探索乘客间是父母/小孩关系的对存活率的影响"
   ]
  },
  {
   "cell_type": "code",
   "execution_count": 16,
   "metadata": {
    "scrolled": true
   },
   "outputs": [
    {
     "name": "stdout",
     "output_type": "stream",
     "text": [
      "Profile feature \"Parch\" survival rate\n",
      "-------------------------------------------\n",
      "       survived  total      rate\n",
      "Parch                           \n",
      "0           186    521  0.357006\n",
      "1            61    110  0.554545\n",
      "2            39     68  0.573529\n",
      "3             3      5  0.600000\n",
      "4             0      4  0.000000\n",
      "5             1      5  0.200000\n",
      "6             0      1  0.000000\n"
     ]
    },
    {
     "data": {
      "image/png": "[encoded data removed]",
      "text/plain": [
       "<Figure size 432x288 with 1 Axes>"
      ]
     },
     "metadata": {},
     "output_type": "display_data"
    }
   ],
   "source": [
    "prediction_with_one_factor(SURVIVED, 'Parch', 'Parch Survival Rate', 'Parch', DENSITY)"
   ]
  },
  {
   "cell_type": "markdown",
   "metadata": {},
   "source": [
    "- 图形解读：x轴代表乘客中父母携带小孩的数量，y轴代表存活率系数\n",
    "- 数据解读：小孩数量0个的存活率：35.70%，1个的存活率：55.45%，2个的存活率：57.35%，3个的存活率：60%，4个存活率：0%，5个的存活率：20%，6个的存活率：0%"
   ]
  },
  {
   "cell_type": "markdown",
   "metadata": {},
   "source": [
    "### 6、探索票价对存活率的影响"
   ]
  },
  {
   "cell_type": "code",
   "execution_count": 17,
   "metadata": {},
   "outputs": [
    {
     "name": "stdout",
     "output_type": "stream",
     "text": [
      "Profile feature \"Fare\" survival rate\n",
      "-------------------------------------------\n",
      "           survived  total      rate\n",
      "FareLevel                           \n",
      "0~40            187    555  0.336937\n",
      "40-100           66    104  0.634615\n",
      "100-200          22     30  0.733333\n",
      "200-300          11     15  0.733333\n",
      "300~550           3      3  1.000000\n"
     ]
    },
    {
     "data": {
      "image/png": "[encoded data removed]",
      "text/plain": [
       "<Figure size 432x288 with 1 Axes>"
      ]
     },
     "metadata": {},
     "output_type": "display_data"
    },
    {
     "data": {
      "image/png": "[encoded data removed]",
      "text/plain": [
       "<Figure size 432x288 with 1 Axes>"
      ]
     },
     "metadata": {},
     "output_type": "display_data"
    }
   ],
   "source": [
    "bins = [0, 40, 100, 200, 300, 550]\n",
    "labels = ['0~40', '40-100', '100-200', '200-300', '300~550']\n",
    "prediction_with_interval_factor(SURVIVED, 'Fare', 'FareLevel', bins, labels, 'Fare Survival Rate', 'Fare', DENSITY)"
   ]
  },
  {
   "cell_type": "markdown",
   "metadata": {},
   "source": [
    "- 图形解读：柱状图x轴代表各区间票价，y轴代表存活率系数\n",
    "- 数据解读：0-40的存活率：33.69%，40-100的存活率：63.46%，100-200个的存活率：73.33%，200-300的存活率：73.33%，300-550存活率：100%"
   ]
  },
  {
   "cell_type": "markdown",
   "metadata": {},
   "source": [
    "### 7、探索舱室等级与性别的综合因素对存活率的影响"
   ]
  },
  {
   "cell_type": "code",
   "execution_count": 18,
   "metadata": {},
   "outputs": [
    {
     "name": "stdout",
     "output_type": "stream",
     "text": [
      "Profile feature \"Pclass + Sex\" survival rate\n",
      "-------------------------------------------\n",
      "               survived  total      rate\n",
      "Pclass Sex                              \n",
      "1      female        82     85  0.964706\n",
      "       male          40    101  0.396040\n",
      "2      female        68     74  0.918919\n",
      "       male          15     99  0.151515\n",
      "3      female        47    102  0.460784\n",
      "       male          38    253  0.150198\n"
     ]
    },
    {
     "data": {
      "image/png": "[encoded data removed]",
      "text/plain": [
       "<Figure size 432x288 with 1 Axes>"
      ]
     },
     "metadata": {},
     "output_type": "display_data"
    }
   ],
   "source": [
    "prediction_with_double_factor(SURVIVED, 'Pclass', 'Sex', 'Pclass + Sex Survival Rate', 'Pclass + Sex', DENSITY)"
   ]
  },
  {
   "cell_type": "markdown",
   "metadata": {},
   "source": [
    "- 图形解读：x轴代表不同等级的舱室中男女存活数据，y轴代表存活率系数\n",
    "- 数据解读：1级舱室中男女存活率分别为：39.6%、96.47%，2级舱室中男女存活率分别为：15.15%、91.89%，3级舱室中男女存活率分别为：15.01%、46.07%"
   ]
  },
  {
   "cell_type": "markdown",
   "metadata": {},
   "source": [
    "## Drawing Conclusions Phase ( Make Predictions) 总结与预测"
   ]
  },
  {
   "cell_type": "markdown",
   "metadata": {},
   "source": [
    "- 泰坦尼克号上有2224名乘客和船员，乘客1300多人，船员800多人，我们对891条乘客的样本清洗后得到了714条特征分析数据，分析数据占了样本数据的87%，占了总乘客数的近60%。从特征数据分析得出，小孩、女士、高等级舱室的存活率较高，如果891名样本数据是随机抽选，根据中心极限定理，该样本的数据足够大，那么我们的分析结果就具有代表性，但如果不是随机选取，由于数据有缺失且不完整，那么我们的分析结果就可能不太靠谱了。\n",
    "- 另外船上还有800多名船员和工作人员，工作人员在处理逃生时发挥的作用不容小觑，但是我们没有对这部分数据进行分析，因此乘客的生存率结论不能完全准确。\n",
    "- 很多故事和细节已经永远地沉没在大海中，我们面对的只是冷冰冰的数据。但是数据遮掩不了船上男士们的英勇，正是男士们的担当和牺牲，让船上大部分女士和超过半数的儿童获救了。\n",
    "- 人类历史上，曾经发生过很多灾难，值得人类自豪的是，危难来临之际，很多人并没有忘记人生价值和尊严。即使面对死亡，他们仍然坚持自己的理想和信念，勇敢向前，捍卫了人性的光辉。"
   ]
  },
  {
   "cell_type": "markdown",
   "metadata": {},
   "source": [
    "## Communication Phase 交流研究成果"
   ]
  },
  {
   "cell_type": "markdown",
   "metadata": {},
   "source": [
    "- 舱室等级越高，存活率越高\n",
    "- 女士的存活率明显高于男士，正常情况下女士的逃生能力低于男士，却获得了高存活率，因此可以推测女士在逃生时得到了优先照顾\n",
    "- 青少年的存活率较中老年明显高，因此可以推测青少年在逃生时得到了优先照顾\n",
    "- 1个亲戚的存活率最高，超过2个亲戚的情况存活率不断下降，可能逃生时亲戚越多顾虑越多，需要照顾的人越多，存活率反而不如独自一个人高\n",
    "- 小孩数量0-3个的存活率较高，多于3个的存活率降低，可以推测带小孩的给予了优先逃生照顾，但是小孩太多也影响了存活率，逃生时的精力分散可能造成了直接影响，但这只是猜测，毕竟样本数据有限\n",
    "- 票价越高的存活率越高，票价高的应该在高等舱室，这与舱室等级的探索结论相吻合\n",
    "- 无论在什么等级的舱室，女士都比男士存活率高，舱室等级高的男女存活率优于等级低的舱室，可以推测舱室等于对存活率的影响较大，也可以推测男士很有担当，将逃生希望优先给予了女士"
   ]
  }
 ],
 "metadata": {
  "kernelspec": {
   "display_name": "Python 2",
   "language": "python",
   "name": "python2"
  },
  "language_info": {
   "codemirror_mode": {
    "name": "ipython",
    "version": 2
   },
   "file_extension": ".py",
   "mimetype": "text/x-python",
   "name": "python",
   "nbconvert_exporter": "python",
   "pygments_lexer": "ipython2",
   "version": "2.7.15"
  }
 },
 "nbformat": 4,
 "nbformat_minor": 2
}
